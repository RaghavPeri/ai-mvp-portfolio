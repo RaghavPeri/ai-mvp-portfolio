{
  "nbformat": 4,
  "nbformat_minor": 0,
  "metadata": {
    "colab": {
      "provenance": [],
      "authorship_tag": "ABX9TyMa6C4SQNHhRHZML5vhdwhR",
      "include_colab_link": true
    },
    "kernelspec": {
      "name": "python3",
      "display_name": "Python 3"
    },
    "language_info": {
      "name": "python"
    }
  },
  "cells": [
    {
      "cell_type": "markdown",
      "metadata": {
        "id": "view-in-github",
        "colab_type": "text"
      },
      "source": [
        "<a href=\"https://colab.research.google.com/github/RaghavPeri/ai-mvp-portfolio/blob/main/fake-review-detector/Fake_Review_Detector.ipynb\" target=\"_parent\"><img src=\"https://colab.research.google.com/assets/colab-badge.svg\" alt=\"Open In Colab\"/></a>"
      ]
    },
    {
      "cell_type": "markdown",
      "source": [
        "# 🧠 Fake Review Detector – Google Sheets + NLP Classifier\n",
        "\n",
        "This notebook trains a classifier using labeled review data from Google Sheets and automatically labels new reviews entered in a separate sheet tab.  \n",
        "It's built to simulate a **real-time trust & fraud detection use case** using supervised NLP.\n",
        "\n",
        "- **Training Tab:** Uses labeled reviews from `Training Data`\n",
        "- **New Review Tab:** Accepts a new review in `A2` and auto-fills the predicted label in `B2`\n",
        "\n",
        "You can rerun the final block to test any new review you input — no retraining needed.\n"
      ],
      "metadata": {
        "id": "5S86tHorcLyT"
      }
    },
    {
      "cell_type": "markdown",
      "source": [
        "## 📊 Training Tab : Model Setup & Training\n",
        "This block:\n",
        "\n",
        "- Installs packages and authenticates Google Sheets  \n",
        "- Loads labeled review data from the Training Data tab  \n",
        "- Trains a supervised classifier using TF-IDF + Logistic Regression  \n",
        "\n",
        "🔁 **Model steps:**\n",
        "- 📂 Loads review + label columns into a DataFrame  \n",
        "- 🧠 Transforms review text into vectors (TF-IDF)  \n",
        "- 🤖 Fits the classification model  \n",
        "- ✅ Prepares the model for predictions  \n"
      ],
      "metadata": {
        "id": "FrMvU6EAJFzk"
      }
    },
    {
      "cell_type": "code",
      "execution_count": 16,
      "metadata": {
        "colab": {
          "base_uri": "https://localhost:8080/",
          "height": 633
        },
        "id": "VUTo017IQ1No",
        "outputId": "4b7bc4dd-7ba5-4101-d7ea-fc2b99c51673"
      },
      "outputs": [
        {
          "output_type": "stream",
          "name": "stdout",
          "text": [
            "              precision    recall  f1-score   support\n",
            "\n",
            "        fake       1.00      1.00      1.00         5\n",
            "     genuine       1.00      1.00      1.00         5\n",
            "\n",
            "    accuracy                           1.00        10\n",
            "   macro avg       1.00      1.00      1.00        10\n",
            "weighted avg       1.00      1.00      1.00        10\n",
            "\n"
          ]
        },
        {
          "output_type": "display_data",
          "data": {
            "text/plain": [
              "<Figure size 640x480 with 2 Axes>"
            ],
            "image/png": "[encoded data removed]"
          },
          "metadata": {}
        }
      ],
      "source": [
        "# Step 1: Install necessary packages\n",
        "!pip install --upgrade gspread scikit-learn pandas --quiet\n",
        "\n",
        "# Step 2: Import required libraries\n",
        "import pandas as pd\n",
        "from google.colab import auth\n",
        "auth.authenticate_user()\n",
        "import gspread\n",
        "from google.auth import default\n",
        "creds, _ = default()\n",
        "from sklearn.feature_extraction.text import TfidfVectorizer\n",
        "from sklearn.linear_model import LogisticRegression\n",
        "from sklearn.pipeline import make_pipeline\n",
        "\n",
        "# Step 3: Authenticate and connect to Google Sheets\n",
        "creds, _ = default()\n",
        "gc = gspread.authorize(creds)\n",
        "\n",
        "# Step 4: Define spreadsheet and tab names\n",
        "spreadsheet_url = \"https://docs.google.com/spreadsheets/d/16SDLUn3LwGAFy1vSRNe1ZIJ8fKCM1hBg2NJANfpLYnU/edit\"\n",
        "training_sheet = \"Training Data\"       # Sheet with labeled review data\n",
        "new_review_sheet = \"New Review\"        # Sheet where new review is added\n",
        "\n",
        "# Step 5: Load the training data from 'Training data' tab\n",
        "sh = gc.open_by_url(spreadsheet_url)\n",
        "training_ws = sh.worksheet(training_sheet)\n",
        "training_data = training_ws.get_all_records()\n",
        "\n",
        "# Convert training data to DataFrame\n",
        "df_train = pd.DataFrame(training_data)\n",
        "reviews = df_train['Review']\n",
        "labels = df_train['Label']\n",
        "\n",
        "# Step 6: Train a simple TF-IDF + Logistic Regression pipeline\n",
        "model = make_pipeline(\n",
        "    TfidfVectorizer(stop_words='english'),\n",
        "    LogisticRegression()\n",
        ")\n",
        "model.fit(reviews, labels)\n",
        "\n",
        "from sklearn.metrics import classification_report\n",
        "\n",
        "# Step 7: Evaluate model on training data\n",
        "train_preds = model.predict(reviews)\n",
        "print(classification_report(labels, train_preds))\n",
        "\n",
        "# Step 8: # Plot confusion matrix\n",
        "from sklearn.metrics import confusion_matrix, ConfusionMatrixDisplay\n",
        "import matplotlib.pyplot as plt\n",
        "cm = confusion_matrix(labels, train_preds, labels=model.classes_)\n",
        "disp = ConfusionMatrixDisplay(confusion_matrix=cm, display_labels=model.classes_)\n",
        "disp.plot(cmap='Blues')\n",
        "plt.title(\"Confusion Matrix – Fake Review Classifier\")\n",
        "plt.show()\n",
        "\n"
      ]
    },
    {
      "cell_type": "markdown",
      "source": [
        "## **New Review Tab:** Real-Time Prediction\n",
        "\n",
        "This block:\n",
        "\n",
        "Pulls a new review from cell A2\n",
        "\n",
        "Predicts its label (genuine/fake) using the trained model\n",
        "\n",
        "Auto-writes the result into B2\n",
        "\n",
        "Also prints it in Colab output ✅\n",
        "\n",
        "You only need to rerun this block when testing a new review — no retraining required."
      ],
      "metadata": {
        "id": "nv8NmG8_-tHV"
      }
    },
    {
      "cell_type": "code",
      "source": [
        "# Step 9: Fetch the new review from 'New Review' tab\n",
        "new_review_ws = sh.worksheet(new_review_sheet)\n",
        "new_review_value = new_review_ws.acell('A2').value  # Assuming review is in A2\n",
        "\n",
        "# Step 10: Predict the label for the new review\n",
        "predicted_label = model.predict([new_review_value])[0]\n",
        "\n",
        "# Step 11: Write the predicted label back to column B2 of 'New Review'\n",
        "new_review_ws.update([[predicted_label]], 'B2')\n",
        "\n",
        "# Step 12: Print final status\n",
        "print(f\"✅ New review labeled as: {predicted_label}\")\n",
        "\n"
      ],
      "metadata": {
        "colab": {
          "base_uri": "https://localhost:8080/"
        },
        "id": "thTjgiW_boE0",
        "outputId": "4eceb025-b06d-4bb6-80b9-169591256628"
      },
      "execution_count": 17,
      "outputs": [
        {
          "output_type": "stream",
          "name": "stdout",
          "text": [
            "✅ New review labeled as: fake\n"
          ]
        }
      ]
    },
    {
      "cell_type": "markdown",
      "source": [
        "## ✅ MVP Summary: Fake Review Detector with Google Sheets Integration\n",
        "This MVP classifies user-submitted reviews as **genuine or fake** using a supervised NLP model trained on labeled data from Google Sheets.\n",
        "\n",
        "### 🔍 What It Does:\n",
        "- Reads labeled review examples from a **“Training data”** tab in Google Sheets  \n",
        "- Trains a **TF-IDF + Logistic Regression** classifier for binary classification (genuine/fake)  \n",
        "- Accepts a new review input in cell **A2** of the **“New Review”** tab  \n",
        "- Automatically writes the predicted label (genuine/fake) into cell **B2**  \n",
        "- Displays the prediction in the notebook as well for real-time feedback  \n",
        "\n",
        "### 🧰 Tech Stack:\n",
        "- Google Colab + Google Sheets API (via `gspread`)  \n",
        "- TF-IDF Vectorization (`scikit-learn`)  \n",
        "- Logistic Regression Classifier  \n",
        "- `pandas` for data wrangling  \n",
        "\n",
        "### 🎯 Product Thinking:\n",
        "- Built for low-friction validation using a real-time sheet-based interface  \n",
        "- Supports rapid prototyping for trust & fraud applications (e.g. ecommerce, content moderation)  \n",
        "- Mimics real-world product workflows where users submit content and systems flag suspicious inputs  \n",
        "- **No retraining required** for each new prediction — once trained, the model continuously evaluates new inputs  \n"
      ],
      "metadata": {
        "id": "ClwsFQipazRV"
      }
    }
  ]
}